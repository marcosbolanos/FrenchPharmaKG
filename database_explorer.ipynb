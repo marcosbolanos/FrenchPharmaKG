{
 "cells": [
  {
   "cell_type": "code",
   "execution_count": 23,
   "id": "cdda2e24",
   "metadata": {},
   "outputs": [],
   "source": [
    "from json import load\n",
    "import psycopg2\n",
    "import os\n",
    "from psycopg2.extras import execute_batch\n",
    "\n",
    "conn = psycopg2.connect(\n",
    "    dbname=\"fpkg0_1\",\n",
    "    user='postgres',\n",
    "    password='postgres',\n",
    "    host=\"localhost\",\n",
    "    port=\"5432\"\n",
    ")"
   ]
  },
  {
   "cell_type": "code",
   "execution_count": null,
   "id": "852b7680",
   "metadata": {},
   "outputs": [],
   "source": []
  }
 ],
 "metadata": {
  "kernelspec": {
   "display_name": ".venv",
   "language": "python",
   "name": "python3"
  },
  "language_info": {
   "codemirror_mode": {
    "name": "ipython",
    "version": 3
   },
   "file_extension": ".py",
   "mimetype": "text/x-python",
   "name": "python",
   "nbconvert_exporter": "python",
   "pygments_lexer": "ipython3",
   "version": "3.12.2"
  }
 },
 "nbformat": 4,
 "nbformat_minor": 5
}
