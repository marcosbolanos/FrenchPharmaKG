{
 "cells": [
  {
   "cell_type": "code",
   "execution_count": 1,
   "id": "cdda2e24",
   "metadata": {},
   "outputs": [
    {
     "ename": "OperationalError",
     "evalue": "connection to server at \"localhost\" (::1), port 5431 failed: Connection refused\n\tIs the server running on that host and accepting TCP/IP connections?\nconnection to server at \"localhost\" (127.0.0.1), port 5431 failed: Connection refused\n\tIs the server running on that host and accepting TCP/IP connections?\n",
     "output_type": "error",
     "traceback": [
      "\u001b[31m---------------------------------------------------------------------------\u001b[39m",
      "\u001b[31mOperationalError\u001b[39m                          Traceback (most recent call last)",
      "\u001b[36mCell\u001b[39m\u001b[36m \u001b[39m\u001b[32mIn[1]\u001b[39m\u001b[32m, line 7\u001b[39m\n\u001b[32m      4\u001b[39m \u001b[38;5;28;01mimport\u001b[39;00m\u001b[38;5;250m \u001b[39m\u001b[34;01mos\u001b[39;00m\n\u001b[32m      5\u001b[39m \u001b[38;5;28;01mfrom\u001b[39;00m\u001b[38;5;250m \u001b[39m\u001b[34;01mpsycopg2\u001b[39;00m\u001b[34;01m.\u001b[39;00m\u001b[34;01mextras\u001b[39;00m\u001b[38;5;250m \u001b[39m\u001b[38;5;28;01mimport\u001b[39;00m execute_batch\n\u001b[32m----> \u001b[39m\u001b[32m7\u001b[39m conn = \u001b[43mpsycopg2\u001b[49m\u001b[43m.\u001b[49m\u001b[43mconnect\u001b[49m\u001b[43m(\u001b[49m\n\u001b[32m      8\u001b[39m \u001b[43m    \u001b[49m\u001b[43mdbname\u001b[49m\u001b[43m=\u001b[49m\u001b[33;43m\"\u001b[39;49m\u001b[33;43mfpkg0_1\u001b[39;49m\u001b[33;43m\"\u001b[39;49m\u001b[43m,\u001b[49m\n\u001b[32m      9\u001b[39m \u001b[43m    \u001b[49m\u001b[43muser\u001b[49m\u001b[43m=\u001b[49m\u001b[33;43m'\u001b[39;49m\u001b[33;43mpostgres\u001b[39;49m\u001b[33;43m'\u001b[39;49m\u001b[43m,\u001b[49m\n\u001b[32m     10\u001b[39m \u001b[43m    \u001b[49m\u001b[43mpassword\u001b[49m\u001b[43m=\u001b[49m\u001b[33;43m'\u001b[39;49m\u001b[33;43mpostgres\u001b[39;49m\u001b[33;43m'\u001b[39;49m\u001b[43m,\u001b[49m\n\u001b[32m     11\u001b[39m \u001b[43m    \u001b[49m\u001b[43mhost\u001b[49m\u001b[43m=\u001b[49m\u001b[33;43m\"\u001b[39;49m\u001b[33;43mlocalhost\u001b[39;49m\u001b[33;43m\"\u001b[39;49m\u001b[43m,\u001b[49m\n\u001b[32m     12\u001b[39m \u001b[43m    \u001b[49m\u001b[43mport\u001b[49m\u001b[43m=\u001b[49m\u001b[33;43m\"\u001b[39;49m\u001b[33;43m5431\u001b[39;49m\u001b[33;43m\"\u001b[39;49m\n\u001b[32m     13\u001b[39m \u001b[43m)\u001b[49m\n\u001b[32m     15\u001b[39m cur = conn.cursor()\n\u001b[32m     17\u001b[39m cur.execute(\u001b[33m\"\u001b[39m\u001b[33mLOAD \u001b[39m\u001b[33m'\u001b[39m\u001b[33mage\u001b[39m\u001b[33m'\u001b[39m\u001b[33m;\u001b[39m\u001b[33m\"\u001b[39m)\n",
      "\u001b[36mFile \u001b[39m\u001b[32m~/code/frenchPharmaBot/.venv/lib/python3.11/site-packages/psycopg2/__init__.py:122\u001b[39m, in \u001b[36mconnect\u001b[39m\u001b[34m(dsn, connection_factory, cursor_factory, **kwargs)\u001b[39m\n\u001b[32m    119\u001b[39m     kwasync[\u001b[33m'\u001b[39m\u001b[33masync_\u001b[39m\u001b[33m'\u001b[39m] = kwargs.pop(\u001b[33m'\u001b[39m\u001b[33masync_\u001b[39m\u001b[33m'\u001b[39m)\n\u001b[32m    121\u001b[39m dsn = _ext.make_dsn(dsn, **kwargs)\n\u001b[32m--> \u001b[39m\u001b[32m122\u001b[39m conn = \u001b[43m_connect\u001b[49m\u001b[43m(\u001b[49m\u001b[43mdsn\u001b[49m\u001b[43m,\u001b[49m\u001b[43m \u001b[49m\u001b[43mconnection_factory\u001b[49m\u001b[43m=\u001b[49m\u001b[43mconnection_factory\u001b[49m\u001b[43m,\u001b[49m\u001b[43m \u001b[49m\u001b[43m*\u001b[49m\u001b[43m*\u001b[49m\u001b[43mkwasync\u001b[49m\u001b[43m)\u001b[49m\n\u001b[32m    123\u001b[39m \u001b[38;5;28;01mif\u001b[39;00m cursor_factory \u001b[38;5;129;01mis\u001b[39;00m \u001b[38;5;129;01mnot\u001b[39;00m \u001b[38;5;28;01mNone\u001b[39;00m:\n\u001b[32m    124\u001b[39m     conn.cursor_factory = cursor_factory\n",
      "\u001b[31mOperationalError\u001b[39m: connection to server at \"localhost\" (::1), port 5431 failed: Connection refused\n\tIs the server running on that host and accepting TCP/IP connections?\nconnection to server at \"localhost\" (127.0.0.1), port 5431 failed: Connection refused\n\tIs the server running on that host and accepting TCP/IP connections?\n"
     ]
    }
   ],
   "source": [
    "import json\n",
    "import psycopg2\n",
    "import re\n",
    "import os\n",
    "from psycopg2.extras import execute_batch\n",
    "\n",
    "conn = psycopg2.connect(\n",
    "    dbname=\"fpkg0_1\",\n",
    "    user='postgres',\n",
    "    password='postgres',\n",
    "    host=\"localhost\",\n",
    "    port=\"5431\"\n",
    ")\n",
    "\n",
    "cur = conn.cursor()\n",
    "\n",
    "cur.execute(\"LOAD 'age';\")\n",
    "cur.execute(\"SET search_path = ag_catalog, \\\"$user\\\", public;\")\n",
    "\n",
    "conn.commit()"
   ]
  },
  {
   "cell_type": "code",
   "execution_count": 4,
   "id": "852b7680",
   "metadata": {},
   "outputs": [
    {
     "name": "stdout",
     "output_type": "stream",
     "text": [
      "226623\n",
      "{\"id\": 5348024557516217, \"label\": \"HasContraindication\", \"end_id\": 2533274790476847, \"start_id\": 844424930132788, \"properties\": {\"level\": \"CONTRE-INDICATION ABSOLUE\", \"comment\": \"\", \"subtypes\": \"HYPERSENSIBILITE GALACTOSE (INTOLERANCE),HYPERSENSIBILITE GLUCOSE (INTOLERANCE),HYPERSENSIBILITE LACTOSE (INTOLERANCE)\"}}\n",
      "{\"id\": 5348024557526919, \"label\": \"HasContraindication\", \"end_id\": 2533274790476847, \"start_id\": 844424930133450, \"properties\": {\"level\": \"CONTRE-INDICATION ABSOLUE\", \"comment\": \"\", \"subtypes\": \"HYPERSENSIBILITE GALACTOSE (INTOLERANCE),HYPERSENSIBILITE GLUCOSE (INTOLERANCE),HYPERSENSIBILITE LACTOSE (INTOLERANCE)\"}}\n",
      "{\"id\": 5348024557521904, \"label\": \"HasContraindication\", \"end_id\": 2533274790476847, \"start_id\": 844424930133109, \"properties\": {\"level\": \"CONTRE-INDICATION ABSOLUE\", \"comment\": \"\", \"subtypes\": \"HYPERSENSIBILITE GALACTOSE (INTOLERANCE),HYPERSENSIBILITE GLUCOSE (INTOLERANCE),HYPERSENSIBILITE LACTOSE (INTOLERANCE)\"}}\n",
      "{\"id\": 5348024557521899, \"label\": \"HasContraindication\", \"end_id\": 2533274790476847, \"start_id\": 844424930133109, \"properties\": {\"level\": \"CONTRE-INDICATION ABSOLUE\", \"comment\": \"\", \"subtypes\": \"HYPERSENSIBILITE SOJA/LECITHINE DE SOJA,HYPERSENSIBILITE ARACHIDE/CACAHUETE\"}}\n",
      "{\"id\": 5348024557520536, \"label\": \"HasContraindication\", \"end_id\": 2533274790476847, \"start_id\": 844424930133057, \"properties\": {\"level\": \"CONTRE-INDICATION ABSOLUE\", \"comment\": \"\", \"subtypes\": \"HYPERSENSIBILITE HYDROXYZINE,HYPERSENSIBILITE PIPERAZINE,HYPERSENSIBILITE CETIRIZINE,HYPERSENSIBILITE LEVOCETIRIZINE,HYPERSENSIBILITE CROISEE\"}}\n",
      "{\"id\": 5348024557526892, \"label\": \"HasContraindication\", \"end_id\": 2533274790476847, \"start_id\": 844424930133449, \"properties\": {\"level\": \"CONTRE-INDICATION ABSOLUE\", \"comment\": \"\", \"subtypes\": \"HYPERSENSIBILITE BICALUTAMIDE,HYPERSENSIBILITE A L'UN DES EXCIPIENTS\"}}\n",
      "{\"id\": 5348024557516205, \"label\": \"HasContraindication\", \"end_id\": 2533274790476847, \"start_id\": 844424930132788, \"properties\": {\"level\": \"CONTRE-INDICATION ABSOLUE\", \"comment\": \"\", \"subtypes\": \"HYPERSENSIBILITE ANAGRELIDE,HYPERSENSIBILITE A L'UN DES EXCIPIENTS\"}}\n",
      "{\"id\": 5348024557516230, \"label\": \"HasContraindication\", \"end_id\": 2533274790476847, \"start_id\": 844424930132789, \"properties\": {\"level\": \"CONTRE-INDICATION ABSOLUE\", \"comment\": \"\", \"subtypes\": \"HYPERSENSIBILITE GALACTOSE (INTOLERANCE),HYPERSENSIBILITE GLUCOSE (INTOLERANCE),HYPERSENSIBILITE LACTOSE (INTOLERANCE)\"}}\n",
      "{\"id\": 5348024557520980, \"label\": \"HasContraindication\", \"end_id\": 2533274790476847, \"start_id\": 844424930133079, \"properties\": {\"level\": \"CONTRE-INDICATION ABSOLUE\", \"comment\": \"\", \"subtypes\": \"HYPERSENSIBILITE GALACTOSE (INTOLERANCE),HYPERSENSIBILITE GLUCOSE (INTOLERANCE),HYPERSENSIBILITE LACTOSE (INTOLERANCE)\"}}\n",
      "{\"id\": 5348024557520070, \"label\": \"HasContraindication\", \"end_id\": 2533274790476847, \"start_id\": 844424930133045, \"properties\": {\"level\": \"UTILISATION DECONSEILLEE\", \"comment\": \"\", \"subtypes\": \"HYPERSENSIBILITE SULFITES\"}}\n",
      "{\"id\": 5348024557528706, \"label\": \"HasContraindication\", \"end_id\": 2533274790476847, \"start_id\": 844424930133552, \"properties\": {\"level\": \"CONTRE-INDICATION ABSOLUE\", \"comment\": \"\", \"subtypes\": \"HYPERSENSIBILITE BISOPROLOL,HYPERSENSIBILITE A L'UN DES EXCIPIENTS\"}}\n",
      "{\"id\": 5348024557520981, \"label\": \"HasContraindication\", \"end_id\": 2533274790476847, \"start_id\": 844424930133079, \"properties\": {\"level\": \"CONTRE-INDICATION ABSOLUE\", \"comment\": \"\", \"subtypes\": \"HYPERSENSIBILITE BETA BLOQUANTS,HYPERSENSIBILITE CROISEE,HYPERSENSIBILITE ACEBUTOLOL,HYPERSENSIBILITE ALPRENOLOL,HYPERSENSIBILITE ATENOLOL,HYPERSENSIBILITE BEFUNOLOL,HYPERSENSIBILITE BETAXOLOL,HYPERSENSIBILITE BISOPROLOL,HYPERSENSIBILITE CARTEOLOL,HYPERSENSIBILITE CARVEDILOL,HYPERSENSIBILITE CELIPROLOL,HYPERSENSIBILITE CICLOPROLOL,HYPERSENSIBILITE EPANOLOL,HYPERSENSIBILITE ESMOLOL,HYPERSENSIBILITE LABETALOL,HYPERSENSIBILITE LEVOBUNOLOL,HYPERSENSIBILITE METIPRANOLOL,HYPERSENSIBILITE METOPROLOL,HYPERSENSIBILITE NADOLOL,HYPERSENSIBILITE NADOXOLOL,HYPERSENSIBILITE NEBIVOLOL,HYPERSENSIBILITE OXPRENOLOL,HYPERSENSIBILITE PENBUTOLOL,HYPERSENSIBILITE PINDOLOL,HYPERSENSIBILITE PROPRANOLOL,HYPERSENSIBILITE SOTALOL,HYPERSENSIBILITE TERTATOLOL,HYPERSENSIBILITE TIMOLOL\"}}\n",
      "{\"id\": 5348024557526903, \"label\": \"HasContraindication\", \"end_id\": 2533274790476847, \"start_id\": 844424930133449, \"properties\": {\"level\": \"CONTRE-INDICATION ABSOLUE\", \"comment\": \"\", \"subtypes\": \"HYPERSENSIBILITE GALACTOSE (INTOLERANCE),HYPERSENSIBILITE GLUCOSE (INTOLERANCE),HYPERSENSIBILITE LACTOSE (INTOLERANCE)\"}}\n",
      "{\"id\": 5348024557520072, \"label\": \"HasContraindication\", \"end_id\": 2533274790476847, \"start_id\": 844424930133045, \"properties\": {\"level\": \"CONTRE-INDICATION ABSOLUE\", \"comment\": \"\", \"subtypes\": \"HYPERSENSIBILITE ASPARTAM (INTOLERANCE),HYPERSENSIBILITE PHENYLALANINE\"}}\n",
      "{\"id\": 5348024557520073, \"label\": \"HasContraindication\", \"end_id\": 2533274790476847, \"start_id\": 844424930133045, \"properties\": {\"level\": \"CONTRE-INDICATION ABSOLUE\", \"comment\": \"\", \"subtypes\": \"HYPERSENSIBILITE ACECLOFENAC,HYPERSENSIBILITE SALICYLIQUE/SALICYLATE,HYPERSENSIBILITE SALICYLES,HYPERSENSIBILITE ASPIRINE,HYPERSENSIBILITE ALMINOPROFENE,HYPERSENSIBILITE BUFEXAMAC,HYPERSENSIBILITE CARBASALATE CALCIQUE,HYPERSENSIBILITE CELECOXIB,HYPERSENSIBILITE DEXKETOPROFENE,HYPERSENSIBILITE DICLOFENAC,HYPERSENSIBILITE DIETHYLSALICYLAMIDE,HYPERSENSIBILITE DIFLUNISAL,HYPERSENSIBILITE ETODOLAC,HYPERSENSIBILITE ETORICOXIB,HYPERSENSIBILITE FENOPROFENE,HYPERSENSIBILITE FENTIAZAC,HYPERSENSIBILITE FLOCTAFENINE,HYPERSENSIBILITE FLURBIPROFENE,HYPERSENSIBILITE IBUPROFENE,HYPERSENSIBILITE INDOMETACINE,HYPERSENSIBILITE KETOPROFENE,HYPERSENSIBILITE KETOROLAC TROMETHAMINE,HYPERSENSIBILITE MEFENAMIQUE ACIDE,HYPERSENSIBILITE MELOXICAM,HYPERSENSIBILITE MESALAZINE,HYPERSENSIBILITE NABUMETONE,HYPERSENSIBILITE NAPROXENE,HYPERSENSIBILITE NIFLUMIQUE ACIDE,HYPERSENSIBILITE NIMESULIDE,HYPERSENSIBILITE OLSALAZINE,HYPERSENSIBILITE PARECOXIB,HYPERSENSIBILITE PHENAZONE,HYPERSENSIBILITE PHENYLBUTAZONE,HYPERSENSIBILITE PIROXICAM,HYPERSENSIBILITE ROFECOXIB,HYPERSENSIBILITE SALICYLAMIDE,HYPERSENSIBILITE ACETYLSALICYLATE METHYL,HYPERSENSIBILITE SALOL,HYPERSENSIBILITE SAULE,HYPERSENSIBILITE SULFASALAZINE,HYPERSENSIBILITE SULINDAC,HYPERSENSIBILITE TENOXICAM,HYPERSENSIBILITE THIOMERSAL,HYPERSENSIBILITE ACIDE TIAPROFENIQUE,HYPERSENSIBILITE PYRAZOLES,HYPERSENSIBILITE OXICAMS,HYPERSENSIBILITE PARA AMINOSALICYLIQ AC,HYPERSENSIBILITE BENZYDAMINE,HYPERSENSIBILITE AINS,HYPERSENSIBILITE CROISEE,HYPERSENSIBILITE INHIB PROSTAGLANDINE\"}}\n",
      "{\"id\": 5348024557516218, \"label\": \"HasContraindication\", \"end_id\": 2533274790476847, \"start_id\": 844424930132789, \"properties\": {\"level\": \"CONTRE-INDICATION ABSOLUE\", \"comment\": \"\", \"subtypes\": \"HYPERSENSIBILITE ANAGRELIDE,HYPERSENSIBILITE A L'UN DES EXCIPIENTS\"}}\n",
      "{\"id\": 5348024557516243, \"label\": \"HasContraindication\", \"end_id\": 2533274790476847, \"start_id\": 844424930132790, \"properties\": {\"level\": \"CONTRE-INDICATION ABSOLUE\", \"comment\": \"\", \"subtypes\": \"HYPERSENSIBILITE GALACTOSE (INTOLERANCE),HYPERSENSIBILITE GLUCOSE (INTOLERANCE),HYPERSENSIBILITE LACTOSE (INTOLERANCE)\"}}\n",
      "{\"id\": 5348024557526876, \"label\": \"HasContraindication\", \"end_id\": 2533274790476847, \"start_id\": 844424930133448, \"properties\": {\"level\": \"CONTRE-INDICATION ABSOLUE\", \"comment\": \"\", \"subtypes\": \"HYPERSENSIBILITE BICALUTAMIDE,HYPERSENSIBILITE A L'UN DES EXCIPIENTS\"}}\n",
      "{\"id\": 5348024557520533, \"label\": \"HasContraindication\", \"end_id\": 2533274790476847, \"start_id\": 844424930133057, \"properties\": {\"level\": \"CONTRE-INDICATION ABSOLUE\", \"comment\": \"\", \"subtypes\": \"HYPERSENSIBILITE FRUCTOSE (INTOLERANCE),HYPERSENSIBILITE GLUCOSE (INTOLERANCE),HYPERSENSIBILITE GALACTOSE (INTOLERANCE),HYPERSENSIBILITE SACCHAROSE (INTOLERANCE)\"}}\n",
      "{\"id\": 5348024557520964, \"label\": \"HasContraindication\", \"end_id\": 2533274790476847, \"start_id\": 844424930133079, \"properties\": {\"level\": \"CONTRE-INDICATION ABSOLUE\", \"comment\": \"\", \"subtypes\": \"HYPERSENSIBILITE ATENOLOL,HYPERSENSIBILITE A L'UN DES EXCIPIENTS\"}}\n"
     ]
    }
   ],
   "source": [
    "query = f\"\"\"\n",
    "SELECT * FROM cypher('fcsv', $$ \n",
    "    MATCH (d) -[e:HasContraindication]-> (c)\n",
    "    RETURN e\n",
    "$$) AS (result agtype);\n",
    "\"\"\"\n",
    "\n",
    "try:\n",
    "    cur.execute(query)\n",
    "    results = cur.fetchall()\n",
    "    print(len(results))\n",
    "    for res in results[2000:2020]:\n",
    "        res = re.sub(r'::\\w+$', '', res[0])\n",
    "        print(res)\n",
    "except Exception as e:\n",
    "    print(e)\n",
    "    conn.rollback()"
   ]
  },
  {
   "cell_type": "code",
   "execution_count": 37,
   "id": "8f4b8592",
   "metadata": {},
   "outputs": [],
   "source": [
    "conn.rollback()"
   ]
  }
 ],
 "metadata": {
  "kernelspec": {
   "display_name": ".venv",
   "language": "python",
   "name": "python3"
  },
  "language_info": {
   "codemirror_mode": {
    "name": "ipython",
    "version": 3
   },
   "file_extension": ".py",
   "mimetype": "text/x-python",
   "name": "python",
   "nbconvert_exporter": "python",
   "pygments_lexer": "ipython3",
   "version": "3.11.2"
  }
 },
 "nbformat": 4,
 "nbformat_minor": 5
}
