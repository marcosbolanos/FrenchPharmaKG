{
 "cells": [
  {
   "cell_type": "code",
   "execution_count": 91,
   "id": "cdda2e24",
   "metadata": {},
   "outputs": [],
   "source": [
    "import json\n",
    "import psycopg\n",
    "from pgvector.psycopg import register_vector\n",
    "import re\n",
    "import os\n",
    "\n",
    "conn = psycopg.connect(\n",
    "    dbname=\"fpkg\",\n",
    "    user=os.environ.get(\"PGUSER\"),\n",
    "    password=os.environ.get(\"PGPASSWORD\"),\n",
    "    host=\"localhost\",\n",
    "    port=\"5431\"\n",
    ")\n",
    "\n",
    "cursor = conn.cursor()\n",
    "\n",
    "cursor.execute(\"LOAD 'age';\")\n",
    "cursor.execute(\"SET search_path = ag_catalog, \\\"$user\\\", public;\")\n",
    "\n",
    "conn.commit()"
   ]
  },
  {
   "cell_type": "code",
   "execution_count": 37,
   "id": "852b7680",
   "metadata": {},
   "outputs": [
    {
     "name": "stdout",
     "output_type": "stream",
     "text": [
      "8\n",
      "('Drug', 'fcsv.\"Drug\"')\n",
      "('ActiveIngredient', 'fcsv.\"ActiveIngredient\"')\n",
      "('Excipient', 'fcsv.\"Excipient\"')\n",
      "('GenericGroup', 'fcsv.\"GenericGroup\"')\n",
      "('LegalSubstanceList', 'fcsv.\"LegalSubstanceList\"')\n",
      "('Indication', 'fcsv.\"Indication\"')\n",
      "('Contraindication', 'fcsv.\"Contraindication\"')\n",
      "('ROA', 'fcsv.\"ROA\"')\n"
     ]
    }
   ],
   "source": [
    "# Finding the list of nodes to embed\n",
    "query = f\"\"\"\n",
    "    SELECT name, relation\n",
    "    FROM ag_catalog.ag_label\n",
    "    WHERE kind = 'v' AND name != '_ag_label_vertex'\n",
    "    AND graph = (SELECT graphid FROM ag_catalog.ag_graph WHERE name = 'fcsv')\n",
    "\"\"\"\n",
    "\n",
    "try:\n",
    "    cursor.execute(query)\n",
    "    results = cursor.fetchall()\n",
    "    print(len(results))\n",
    "    for res in results[:200]:\n",
    "        # res = re.sub(r'::\\w+$', '', res[0])\n",
    "        print(res)\n",
    "\n",
    "    vertex_labels = results\n",
    "except Exception as e:\n",
    "    print(e)\n",
    "    conn.rollback()"
   ]
  },
  {
   "cell_type": "code",
   "execution_count": null,
   "id": "9d879d19",
   "metadata": {},
   "outputs": [
    {
     "name": "stdout",
     "output_type": "stream",
     "text": [
      "[('\"1\"', '\"A 313 50000UI CAPSULE\"', '[\"Drug\"]'), ('\"2\"', '\"A 313 POMMADE TB 50G\"', '[\"Drug\"]'), ('\"3\"', '\"ABACAVIR ARW 300MG CPR\"', '[\"Drug\"]'), ('\"4\"', '\"ABACAVIR LAMIVUDIN ACC 600/300MG CPR\"', '[\"Drug\"]'), ('\"5\"', '\"ABACAVIR LAMIVUDIN ARW 600/300MG CPR\"', '[\"Drug\"]'), ('\"6\"', '\"ABACAVIR LAMIVUDIN BGA 600/300MG CPR\"', '[\"Drug\"]'), ('\"7\"', '\"ABACAVIR LAMIVUDIN EG 600/300MG CPR\"', '[\"Drug\"]'), ('\"8\"', '\"ABACAVIR LAMIVUDIN SDZ 600/300MG CPR\"', '[\"Drug\"]'), ('\"9\"', '\"ABACAVIR LAMIVUDIN TVC 600/300MG CPR\"', '[\"Drug\"]'), ('\"10\"', '\"ABACAVIR LAMIVUDIN VIA 600/300MG CPR\"', '[\"Drug\"]'), ('\"11\"', '\"ABACAVIR LAMIVUDIN ZEN 600/300MG CPR\"', '[\"Drug\"]'), ('\"12\"', '\"ABACAVIR LAMIVUDINE ZIDOVUDI VIA CPR\"', '[\"Drug\"]'), ('\"13\"', '\"ABACAVIR SDZ 300MG CPR\"', '[\"Drug\"]'), ('\"14\"', '\"ABACAVIR VIA 300MG CPR\"', '[\"Drug\"]'), ('\"15\"', '\"ABASAGLAR 100U/ML INJ CART 3ML\"', '[\"Drug\"]'), ('\"16\"', '\"ABASAGLAR KPEN 100U/ML STYLO 3ML\"', '[\"Drug\"]'), ('\"17\"', '\"ABECMA 260-500MN CELL DISP INJ 50ML\"', '[\"Drug\"]'), ('\"18\"', '\"ABELCET 5MG/ML SUSP INJ FL 20ML\"', '[\"Drug\"]'), ('\"19\"', '\"ABEVMY 25MG/ML SOL INJ FL 16ML\"', '[\"Drug\"]'), ('\"20\"', '\"ABEVMY 25MG/ML SOL INJ FL 4ML\"', '[\"Drug\"]')]\n",
      "  Found 13768 nodes in Drug\n",
      "[('\"13870\"', '\"177 Lu-DOTA-OCTREOTATE\"', '[\"ActiveIngredient\"]'), ('\"13871\"', '\"6 FLUORO 18F L DOPA\"', '[\"ActiveIngredient\"]'), ('\"13872\"', '\"6 FLUORO 18F L DOPA\"', '[\"ActiveIngredient\"]'), ('\"13873\"', '\"6 FLUORO 18F L DOPA\"', '[\"ActiveIngredient\"]'), ('\"13874\"', '\"6 IODOMETHYLNORCHOLESTEROL (131I) 7,5 A\"', '[\"ActiveIngredient\"]'), ('\"13875\"', '\"ABACAVIR SULFATE\"', '[\"ActiveIngredient\"]'), ('\"13876\"', '\"ABSINTHIUM 3DH\"', '[\"ActiveIngredient\"]'), ('\"13877\"', '\"ACEBUTOLOL CHLORHYDRATE\"', '[\"ActiveIngredient\"]'), ('\"13878\"', '\"ACETYLCYSTEINE\"', '[\"ActiveIngredient\"]'), ('\"13879\"', '\"ACETYLCYSTEINE\"', '[\"ActiveIngredient\"]'), ('\"13880\"', '\"ACETYLCYSTEINE\"', '[\"ActiveIngredient\"]'), ('\"13881\"', '\"ACETYLCYSTEINE\"', '[\"ActiveIngredient\"]'), ('\"13882\"', '\"ACETYLCYSTEINE\"', '[\"ActiveIngredient\"]'), ('\"13883\"', '\"ACETYLCYSTEINE\"', '[\"ActiveIngredient\"]'), ('\"13884\"', '\"ACETYLCYSTEINE\"', '[\"ActiveIngredient\"]'), ('\"13885\"', '\"ACETYLLEUCINE\"', '[\"ActiveIngredient\"]'), ('\"13886\"', '\"ACICLOVIR\"', '[\"ActiveIngredient\"]'), ('\"13887\"', '\"ACICLOVIR\"', '[\"ActiveIngredient\"]'), ('\"13888\"', '\"ACICLOVIR\"', '[\"ActiveIngredient\"]'), ('\"13889\"', '\"ACICLOVIR\"', '[\"ActiveIngredient\"]')]\n",
      "  Found 2561 nodes in ActiveIngredient\n",
      "[('\"16431\"', '\"2-(N-MORPHOLINO)-ETHANOSULFONIQUE ACIDE\"', '[\"Excipient\"]'), ('\"16432\"', '\"ABEILLE CIRE BLANCHE\"', '[\"Excipient\"]'), ('\"16433\"', '\"ABEILLE CIRE JAUNE\"', '[\"Excipient\"]'), ('\"16434\"', '\"ACACIA (NATURE NON PRECISEE)\"', '[\"Excipient\"]'), ('\"16435\"', '\"ACESULFAME POTASSIUM\"', '[\"Excipient\"]'), ('\"16436\"', '\"ACETIQUE ACIDE\"', '[\"Excipient\"]'), ('\"16437\"', '\"ACETIQUE ACIDE GLACIAL\"', '[\"Excipient\"]'), ('\"16438\"', '\"ACETONE\"', '[\"Excipient\"]'), ('\"16439\"', '\"ACETYLCYSTEINE\"', '[\"Excipient\"]'), ('\"16440\"', '\"ACIDES GRAS ESTERS\"', '[\"Excipient\"]'), ('\"16441\"', '\"ADIPIQUE ACIDE\"', '[\"Excipient\"]'), ('\"16442\"', '\"ADRAGANTE GOMME\"', '[\"Excipient\"]'), ('\"16443\"', '\"AGAR AGAR\"', '[\"Excipient\"]'), ('\"16444\"', '\"AGENT FILMOGENE JAUNE\"', '[\"Excipient\"]'), ('\"16445\"', '\"ALBUMINE HUMAINE\"', '[\"Excipient\"]'), ('\"16446\"', '\"ALBUMINE HUMAINE SOLUTION\"', '[\"Excipient\"]'), ('\"16447\"', '\"ALC-0159\"', '[\"Excipient\"]'), ('\"16448\"', '\"ALC-0315\"', '[\"Excipient\"]'), ('\"16449\"', '\"ALCANAMIDOPROPYLBETAINE\"', '[\"Excipient\"]'), ('\"16450\"', '\"ALCOOL (NATURE NON PRECISEE)\"', '[\"Excipient\"]')]\n",
      "  Found 1074 nodes in Excipient\n",
      "[('\"17505\"', '\"Rétinol 50000 UI capsule\"', '[\"GenericGroup\"]'), ('\"17506\"', '\"Rétinol 0,2 MUI/100 g pommade\"', '[\"GenericGroup\"]'), ('\"17507\"', '\"Abacavir 300 mg comprimé\"', '[\"GenericGroup\"]'), ('\"17508\"', '\"Abacavir 600 mg et lamivudine 300 mg comprimé\"', '[\"GenericGroup\"]'), ('\"17509\"', '\"Abacavir 300 mg et lamivudine 150 mg et zidovudine 300 mg comprimé\"', '[\"GenericGroup\"]'), ('\"17510\"', '\"Insuline glargine 100 U/ml solution injectable action lente\"', '[\"GenericGroup\"]'), ('\"17511\"', '\"Idecabtagene vicleucel 260-500 millions de cellules dispersion pour perfusion\"', '[\"GenericGroup\"]'), ('\"17512\"', '\"Amphotéricine B 5 mg/ml (100 mg/20 ml) suspension à diluer pour perfusion\"', '[\"GenericGroup\"]'), ('\"17513\"', '\"Bevacizumab 25 mg/ml solution à diluer pour perfusion (IV)\"', '[\"GenericGroup\"]'), ('\"17514\"', '\"Aripiprazole 10 mg comprimé\"', '[\"GenericGroup\"]'), ('\"17515\"', '\"Aripiprazole 10 mg comprimé orodispersible\"', '[\"GenericGroup\"]'), ('\"17516\"', '\"Aripiprazole 15 mg comprimé\"', '[\"GenericGroup\"]'), ('\"17517\"', '\"Aripiprazole 15 mg comprimé orodispersible\"', '[\"GenericGroup\"]'), ('\"17518\"', '\"Aripiprazole 1 mg/ml solution buvable\"', '[\"GenericGroup\"]'), ('\"17519\"', '\"Aripiprazole 5 mg comprimé\"', '[\"GenericGroup\"]'), ('\"17520\"', '\"Aripiprazole 7,5 mg/ml solution injectable\"', '[\"GenericGroup\"]'), ('\"17521\"', '\"Aripiprazole LP 300 mg poudre et solvant pour suspension injectable à libération prolongée\"', '[\"GenericGroup\"]'), ('\"17522\"', '\"Aripiprazole LP 400 mg poudre et solvant pour suspension injectable à libération prolongée en seringue préremplie\"', '[\"GenericGroup\"]'), ('\"17523\"', '\"Aripiprazole LP 720 mg suspension injectable à libération prolongée en seringue préremplie\"', '[\"GenericGroup\"]'), ('\"17524\"', '\"Aripiprazole LP 960 mg suspension injectable à libération prolongée en seringue préremplie\"', '[\"GenericGroup\"]')]\n",
      "  Found 5151 nodes in GenericGroup\n",
      "[('\"22656\"', '\"LISTE EN COURS\"', '[\"LegalSubstanceList\"]'), ('\"22657\"', '\"LISTE I\"', '[\"LegalSubstanceList\"]'), ('\"22658\"', '\"LISTE II\"', '[\"LegalSubstanceList\"]'), ('\"22659\"', '\"SANS LISTE\"', '[\"LegalSubstanceList\"]')]\n",
      "  Found 4 nodes in LegalSubstanceList\n",
      "[('\"22660\"', '\"CARENCE EN VITAMINE A\"', '[\"Indication\"]'), ('\"22661\"', '\"DERMITE IRRITATIVE\"', '[\"Indication\"]'), ('\"22662\"', '\"INFECTION VIH\"', '[\"Indication\"]'), ('\"22663\"', '\"INFECTION VIH\"', '[\"Indication\"]'), ('\"22664\"', '\"INFECTION VIH\"', '[\"Indication\"]'), ('\"22665\"', '\"INFECTION VIH\"', '[\"Indication\"]'), ('\"22666\"', '\"INFECTION VIH\"', '[\"Indication\"]'), ('\"22667\"', '\"INFECTION VIH\"', '[\"Indication\"]'), ('\"22668\"', '\"INFECTION VIH\"', '[\"Indication\"]'), ('\"22669\"', '\"INFECTION VIH\"', '[\"Indication\"]'), ('\"22670\"', '\"INFECTION VIH\"', '[\"Indication\"]'), ('\"36686\"', '\"MELANOME MALIN\"', '[\"Indication\"]'), ('\"22671\"', '\"INFECTION VIH\"', '[\"Indication\"]'), ('\"22672\"', '\"INFECTION VIH\"', '[\"Indication\"]'), ('\"22673\"', '\"INFECTION VIH\"', '[\"Indication\"]'), ('\"22674\"', '\"DIABETE DE TYPE I (INSULINODEPENDANT)\"', '[\"Indication\"]'), ('\"22675\"', '\"DIABETE DE TYPE II (NON INSULINODEPENDANT)\"', '[\"Indication\"]'), ('\"22676\"', '\"DIABETE DE TYPE I (INSULINODEPENDANT)\"', '[\"Indication\"]'), ('\"22677\"', '\"DIABETE DE TYPE II (NON INSULINODEPENDANT)\"', '[\"Indication\"]'), ('\"22678\"', '\"MYELOME MULTIPLE\"', '[\"Indication\"]')]\n",
      "  Found 58283 nodes in Indication\n",
      "[('\"80943\"', None, '[\"Contraindication\"]'), ('\"80944\"', None, '[\"Contraindication\"]'), ('\"80945\"', None, '[\"Contraindication\"]'), ('\"80946\"', None, '[\"Contraindication\"]'), ('\"80947\"', None, '[\"Contraindication\"]'), ('\"80948\"', None, '[\"Contraindication\"]'), ('\"80949\"', None, '[\"Contraindication\"]'), ('\"80950\"', None, '[\"Contraindication\"]'), ('\"80951\"', None, '[\"Contraindication\"]'), ('\"80952\"', None, '[\"Contraindication\"]'), ('\"80953\"', None, '[\"Contraindication\"]'), ('\"80954\"', None, '[\"Contraindication\"]'), ('\"80955\"', None, '[\"Contraindication\"]'), ('\"80956\"', None, '[\"Contraindication\"]'), ('\"80957\"', None, '[\"Contraindication\"]'), ('\"80958\"', None, '[\"Contraindication\"]'), ('\"80959\"', None, '[\"Contraindication\"]'), ('\"80960\"', None, '[\"Contraindication\"]'), ('\"80961\"', None, '[\"Contraindication\"]'), ('\"80962\"', None, '[\"Contraindication\"]')]\n",
      "  Found 902 nodes in Contraindication\n",
      "[('\"13769\"', '\"A USAGE INTRAPUTAMINAL\"', '[\"ROA\"]'), ('\"13770\"', '\"AURICULAIRE (1)\"', '[\"ROA\"]'), ('\"13771\"', '\"BUCCALE (1)\"', '[\"ROA\"]'), ('\"13772\"', '\"CUTANEE (1)\"', '[\"ROA\"]'), ('\"13773\"', '\"CUTANEE (2)\"', '[\"ROA\"]'), ('\"13774\"', '\"DENTAIRE (1)\"', '[\"ROA\"]'), ('\"13775\"', '\"DENTAIRE (2)\"', '[\"ROA\"]'), ('\"13776\"', '\"ENDOSINUSALE (1)\"', '[\"ROA\"]'), ('\"13777\"', '\"ENDOSINUSALE (2)\"', '[\"ROA\"]'), ('\"13778\"', '\"ENDOTRACHEOBRONCHIQUE (1)\"', '[\"ROA\"]'), ('\"13779\"', '\"ENDOTRACHEOBRONCHIQUE (2)\"', '[\"ROA\"]'), ('\"13780\"', '\"EPILESIONNELLE\"', '[\"ROA\"]'), ('\"13781\"', '\"EXTRACORPORELLE\"', '[\"ROA\"]'), ('\"13782\"', '\"GASTRO-ENTERALE (1)\"', '[\"ROA\"]'), ('\"13783\"', '\"GASTRO-ENTERALE (2)\"', '[\"ROA\"]'), ('\"13784\"', '\"GINGIVALE (1)\"', '[\"ROA\"]'), ('\"13785\"', '\"HEMODIALYSE (2)\"', '[\"ROA\"]'), ('\"13786\"', '\"IMPLANTATION\"', '[\"ROA\"]'), ('\"13787\"', '\"INHALEE (1)\"', '[\"ROA\"]'), ('\"13788\"', '\"INHALEE (2)\"', '[\"ROA\"]')]\n",
      "  Found 101 nodes in ROA\n"
     ]
    }
   ],
   "source": [
    "all_nodes = []\n",
    "\n",
    "# Query each vertex label table\n",
    "for label_name, table_relation in vertex_labels:\n",
    "    try:\n",
    "        # Now that we retrieved the label names, we can embed them\n",
    "        cursor.execute(f\"\"\"\n",
    "            SELECT * FROM cypher('fcsv', $$\n",
    "                MATCH (v:{label_name})\n",
    "                RETURN v.id, v.name, labels(v)\n",
    "            $$) AS (v_id agtype, v_name agtype, v_labels agtype);\n",
    "        \"\"\")\n",
    "        label_nodes = cursor.fetchall()\n",
    "        all_nodes.extend(label_nodes)\n",
    "        print(f\"Found {len(label_nodes)} nodes in {label_name}\")\n",
    "        \n",
    "    except Exception as label_error:\n",
    "        print(f\"  Error querying {label_name}: {str(label_error)}\")\n",
    "        continue\n",
    "\n"
   ]
  },
  {
   "cell_type": "code",
   "execution_count": 80,
   "id": "2d3a9fcf",
   "metadata": {},
   "outputs": [
    {
     "name": "stdout",
     "output_type": "stream",
     "text": [
      "schema \"document_vectors\" does not exist\n",
      "LINE 2:     SELECT * FROM document_vectors.columns();\n",
      "                          ^\n"
     ]
    }
   ],
   "source": [
    "# Generate table to store embeddings\n",
    "query = \"\"\"\n",
    "    SELECT * FROM document_vectors.columns();\n",
    "\"\"\"\n",
    "\n",
    "try:\n",
    "    cursor.execute(query)\n",
    "    results = cursor.fetchall()\n",
    "    print(len(results))\n",
    "    for res in results[:200]:\n",
    "        # res = re.sub(r'::\\w+$', '', res[0])\n",
    "        print(res)\n",
    "\n",
    "    vertex_labels = results\n",
    "except Exception as e:\n",
    "    print(e)\n",
    "    conn.rollback()"
   ]
  },
  {
   "cell_type": "code",
   "execution_count": 93,
   "id": "21e02e17",
   "metadata": {},
   "outputs": [
    {
     "name": "stdout",
     "output_type": "stream",
     "text": [
      "\n",
      "Adding vector embeddings...\n",
      "Vector extension created/verified\n",
      "Creating document_vectors table...\n",
      "Document vectors table created successfully\n",
      "Table columns: [('id', 'text'), ('node_name', 'text'), ('node_label', 'text'), ('embedding', 'USER-DEFINED')]\n"
     ]
    }
   ],
   "source": [
    "print(\"\\nAdding vector embeddings...\")\n",
    "\n",
    "# Create vector extension and table in a separate transaction\n",
    "try:\n",
    "    cursor.execute('CREATE EXTENSION IF NOT EXISTS vector')\n",
    "    conn.commit()\n",
    "    print(\"Vector extension created/verified\")\n",
    "    \n",
    "    # Register vector extension\n",
    "    register_vector(conn)\n",
    "    \n",
    "    # Check if table exists first\n",
    "    cursor.execute(\"\"\"\n",
    "        SELECT EXISTS (\n",
    "            SELECT FROM information_schema.tables \n",
    "            WHERE table_name = 'document_vectors'\n",
    "        );\n",
    "    \"\"\")\n",
    "    table_exists = cursor.fetchone()[0]\n",
    "    \n",
    "    if not table_exists:\n",
    "        print(\"Creating document_vectors table...\")\n",
    "        cursor.execute(\"\"\"\n",
    "            CREATE TABLE document_vectors (\n",
    "                id TEXT PRIMARY KEY,\n",
    "                node_name TEXT,\n",
    "                node_label TEXT,\n",
    "                embedding vector(1536)\n",
    "            );\n",
    "        \"\"\")\n",
    "        conn.commit()\n",
    "        print(\"Document vectors table created successfully\")\n",
    "    else:\n",
    "        cursor.execute(\"DROP TABLE document_vectors CASCADE;\")\n",
    "        conn.commit()\n",
    "        print(\"Document vectors table deleted successfully\")\n",
    "        \n",
    "    # Verify the table structure\n",
    "    cursor.execute(\"\"\"\n",
    "        SELECT column_name, data_type \n",
    "        FROM information_schema.columns \n",
    "        WHERE table_name = 'document_vectors'\n",
    "        ORDER BY ordinal_position;\n",
    "    \"\"\")\n",
    "    columns = cursor.fetchall()\n",
    "    print(f\"Table columns: {columns}\")\n",
    "    \n",
    "except Exception as e:\n",
    "    print(f\"Error setting up table: {str(e)}\")\n",
    "    conn.rollback()"
   ]
  },
  {
   "cell_type": "code",
   "execution_count": 55,
   "id": "f1345ca5",
   "metadata": {},
   "outputs": [
    {
     "name": "stdout",
     "output_type": "stream",
     "text": [
      "<class 'str'>\n"
     ]
    }
   ],
   "source": [
    "print(type(all_nodes[0][0]))"
   ]
  }
 ],
 "metadata": {
  "kernelspec": {
   "display_name": ".venv",
   "language": "python",
   "name": "python3"
  },
  "language_info": {
   "codemirror_mode": {
    "name": "ipython",
    "version": 3
   },
   "file_extension": ".py",
   "mimetype": "text/x-python",
   "name": "python",
   "nbconvert_exporter": "python",
   "pygments_lexer": "ipython3",
   "version": "3.12.2"
  }
 },
 "nbformat": 4,
 "nbformat_minor": 5
}
