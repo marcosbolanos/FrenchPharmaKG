{
 "cells": [
  {
   "cell_type": "code",
   "execution_count": 22,
   "id": "cdda2e24",
   "metadata": {},
   "outputs": [
    {
     "name": "stdout",
     "output_type": "stream",
     "text": [
      "Successfully initialized database and OpenAI embeddings\n"
     ]
    }
   ],
   "source": [
    "import src.utils as utils\n",
    "import os\n",
    "import json\n",
    "\n",
    "from dotenv import load_dotenv\n",
    "\n",
    "load_dotenv()\n",
    "\n",
    "db_config = {\n",
    "    \"dbname\": \"fpkg\",\n",
    "    \"user\": os.environ.get(\"PGUSER\"),\n",
    "    \"password\": os.environ.get(\"PGPASSWORD\"),\n",
    "    \"host\": \"localhost\",\n",
    "    \"port\": \"5431\"\n",
    "}\n",
    "\n",
    "# Initialize database connection and get connection objects\n",
    "conn, cursor, embeddings = utils.init_database(db_config)"
   ]
  },
  {
   "cell_type": "code",
   "execution_count": 23,
   "id": "852b7680",
   "metadata": {},
   "outputs": [
    {
     "name": "stdout",
     "output_type": "stream",
     "text": [
      "found 5 results\n",
      "\n",
      "Top result:\n",
      "    Name: XANAX 0,25MG CPR\n",
      "    ID: 13377\n",
      "\n"
     ]
    }
   ],
   "source": [
    "drug_of_interest = utils.vsearch_drug(drug=\"XANAX\", cursor=cursor, conn=conn, embeddings=embeddings)\n",
    "\n",
    "drug_id = drug_of_interest[\"id\"]"
   ]
  },
  {
   "cell_type": "code",
   "execution_count": 24,
   "id": "aaa18658",
   "metadata": {},
   "outputs": [],
   "source": [
    "result = utils.get_contraindications(drug_id, cursor, conn)"
   ]
  },
  {
   "cell_type": "code",
   "execution_count": 25,
   "id": "555c8571",
   "metadata": {},
   "outputs": [
    {
     "name": "stdout",
     "output_type": "stream",
     "text": [
      "[\n",
      "    {\n",
      "        \"name\": \"HYPERSENSIBILITE\",\n",
      "        \"id\": \"80943\"\n",
      "    },\n",
      "    {\n",
      "        \"name\": \"INSUFFISANCE RESPIRATOIRE\",\n",
      "        \"id\": \"80989\"\n",
      "    },\n",
      "    {\n",
      "        \"name\": \"APNEE DU SOMMEIL SYNDROME\",\n",
      "        \"id\": \"81300\"\n",
      "    },\n",
      "    {\n",
      "        \"name\": \"INSUFFISANCE HEPATIQUE\",\n",
      "        \"id\": \"80954\"\n",
      "    },\n",
      "    {\n",
      "        \"name\": \"MYASTHENIE\",\n",
      "        \"id\": \"81047\"\n",
      "    },\n",
      "    {\n",
      "        \"name\": \"ADULTE JEUNE (15-17 ANS)\",\n",
      "        \"id\": \"80962\"\n",
      "    },\n",
      "    {\n",
      "        \"name\": \"ENFANT\",\n",
      "        \"id\": \"80948\"\n",
      "    },\n",
      "    {\n",
      "        \"name\": \"ENFANT\",\n",
      "        \"id\": \"80948\"\n",
      "    },\n",
      "    {\n",
      "        \"name\": \"NOURRISSON\",\n",
      "        \"id\": \"80949\"\n",
      "    },\n",
      "    {\n",
      "        \"name\": \"NOUVEAU-NE\",\n",
      "        \"id\": \"80950\"\n",
      "    },\n",
      "    {\n",
      "        \"name\": \"INTOXICATION ALCOOLIQUE AIGUE\",\n",
      "        \"id\": \"81301\"\n",
      "    },\n",
      "    {\n",
      "        \"name\": \"INTOXICATION MEDICAMENTEUSE OU CHIMIQUE\",\n",
      "        \"id\": \"81182\"\n",
      "    },\n",
      "    {\n",
      "        \"name\": \"ALLAITEMENT\",\n",
      "        \"id\": \"80947\"\n",
      "    },\n",
      "    {\n",
      "        \"name\": \"GROSSESSE\",\n",
      "        \"id\": \"80968\"\n",
      "    },\n",
      "    {\n",
      "        \"name\": \"AUTRE TRAITEMENT EN COURS\",\n",
      "        \"id\": \"80946\"\n",
      "    },\n",
      "    {\n",
      "        \"name\": \"INTERACTION D'ORIGINE ALIMENTAIRE\",\n",
      "        \"id\": \"80957\"\n",
      "    },\n",
      "    {\n",
      "        \"name\": \"ANOMALIE METABOLISME GALACTOSE\",\n",
      "        \"id\": \"80973\"\n",
      "    },\n",
      "    {\n",
      "        \"name\": \"DEFICIT EN LACTASE\",\n",
      "        \"id\": \"80974\"\n",
      "    },\n",
      "    {\n",
      "        \"name\": \"SYNDROME DE MALABSORPTION / INTOLERANCE DIGESTIVE\",\n",
      "        \"id\": \"80945\"\n",
      "    },\n",
      "    {\n",
      "        \"name\": \"REGIME SANS GALACTOSE\",\n",
      "        \"id\": \"80975\"\n",
      "    },\n",
      "    {\n",
      "        \"name\": \"HYPERSENSIBILITE\",\n",
      "        \"id\": \"80943\"\n",
      "    },\n",
      "    {\n",
      "        \"name\": \"HYPERSENSIBILITE\",\n",
      "        \"id\": \"80943\"\n",
      "    }\n",
      "]\n"
     ]
    }
   ],
   "source": [
    "print(json.dumps(result, indent=4))"
   ]
  },
  {
   "cell_type": "code",
   "execution_count": 31,
   "id": "6b70fe76",
   "metadata": {},
   "outputs": [],
   "source": [
    "import re\n",
    "\n",
    "query = f\"\"\"\n",
    "SELECT * FROM cypher('fcsv', $$ \n",
    "    MATCH ()-[r:HasIndication]->()\n",
    "    RETURN r\n",
    "$$, %(cypher_params)s) AS (x agtype);\n",
    "\"\"\"\n",
    "\n",
    "try:\n",
    "    cursor.execute(query,params={\n",
    "        \"cypher_params\": json.dumps(\n",
    "            {\n",
    "                \"drug_id\": drug_id,\n",
    "            }\n",
    "        )  \n",
    "    })\n",
    "    results = cursor.fetchall()\n",
    "except Exception as e:\n",
    "    print(e)\n",
    "    conn.rollback()\n",
    "\n",
    "for res in results[:20]:# Strip the text and load as json\n",
    "    res = re.sub(r'::\\w+$', '', res[0])\n",
    "    res = json.loads(res)\n",
    "    # Strip the text and load as json\n",
    "    res = re.sub(r'::\\w+$', '', res[0])\n",
    "    res = json.loads(res)\n",
    "    print(res)"
   ]
  },
  {
   "cell_type": "code",
   "execution_count": null,
   "id": "deb9386c",
   "metadata": {},
   "outputs": [],
   "source": []
  }
 ],
 "metadata": {
  "kernelspec": {
   "display_name": ".venv",
   "language": "python",
   "name": "python3"
  },
  "language_info": {
   "codemirror_mode": {
    "name": "ipython",
    "version": 3
   },
   "file_extension": ".py",
   "mimetype": "text/x-python",
   "name": "python",
   "nbconvert_exporter": "python",
   "pygments_lexer": "ipython3",
   "version": "3.12.2"
  }
 },
 "nbformat": 4,
 "nbformat_minor": 5
}
