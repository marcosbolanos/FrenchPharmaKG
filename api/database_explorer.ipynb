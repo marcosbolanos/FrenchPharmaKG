{
 "cells": [
  {
   "cell_type": "code",
   "execution_count": 28,
   "id": "cdda2e24",
   "metadata": {},
   "outputs": [
    {
     "name": "stdout",
     "output_type": "stream",
     "text": [
      "Successfully initialized database and OpenAI embeddings\n"
     ]
    }
   ],
   "source": [
    "from dotenv import load_dotenv\n",
    "import os\n",
    "from src.utils import init_database, vsearch_drug, get_excipients, get_generics\n",
    "\n",
    "load_dotenv()\n",
    "\n",
    "db_config = {\n",
    "    \"dbname\": \"fpkg\",\n",
    "    \"user\": os.environ.get(\"PGUSER\"),\n",
    "    \"password\": os.environ.get(\"PGPASSWORD\"),\n",
    "    \"host\": \"localhost\",\n",
    "    \"port\": \"5431\"\n",
    "}\n",
    "\n",
    "# Initialize database connection and get connection objects\n",
    "conn, cursor, embeddings = init_database(db_config)"
   ]
  },
  {
   "cell_type": "code",
   "execution_count": 27,
   "id": "852b7680",
   "metadata": {},
   "outputs": [
    {
     "name": "stdout",
     "output_type": "stream",
     "text": [
      "found 5 results\n",
      "\n",
      "Top result:\n",
      "    Name: XEROQUEL LP 400MG CPR\n",
      "    ID: 13439\n",
      "\n"
     ]
    }
   ],
   "source": [
    "drug_of_interest = vsearch_drug(drug=\"XEROQUEL\", cursor=cursor, conn=conn, embeddings=embeddings)"
   ]
  },
  {
   "cell_type": "code",
   "execution_count": 29,
   "id": "d86a353b",
   "metadata": {},
   "outputs": [
    {
     "name": "stdout",
     "output_type": "stream",
     "text": [
      "Found 11 results:\n",
      "name:  QUETIAPINE AHL LP 400MG CPR\n",
      "id:  10297\n",
      "name:  QUETIAPINE ARL LP 400MG CPR\n",
      "id:  10299\n",
      "name:  QUETIAPINE BGA LP 400MG CPR\n",
      "id:  10302\n",
      "name:  QUETIAPINE CRT LP 400MG CPR\n",
      "id:  10305\n",
      "name:  QUETIAPINE EG LP 400MG CPR\n",
      "id:  10308\n",
      "name:  QUETIAPINE EVO LP 400MG CPR\n",
      "id:  10311\n",
      "name:  QUETIAPINE KRK LP 400MG CPR\n",
      "id:  10314\n",
      "name:  QUETIAPINE SDZ LP 400MG CPR\n",
      "id:  10317\n",
      "name:  QUETIAPINE TVC LP 400MG CPR\n",
      "id:  10320\n",
      "name:  QUETIAPINE VIA LP 400MG CPR\n",
      "id:  10323\n",
      "name:  QUETIAPINE ZEN LP 400MG CPR\n",
      "id:  10326\n"
     ]
    }
   ],
   "source": [
    "# Finding all of the generics of the drug in the db thru graph search\n",
    "if drug_of_interest and \"id\" in drug_of_interest:\n",
    "    id_of_drug = drug_of_interest[\"id\"]\n",
    "    generics = get_generics(id_of_drug, cursor=cursor, conn=conn)\n",
    "else:\n",
    "    print(\"No drug found or drug_of_interest is None\")"
   ]
  },
  {
   "cell_type": "code",
   "execution_count": 32,
   "id": "fd9db3a2",
   "metadata": {},
   "outputs": [
    {
     "name": "stdout",
     "output_type": "stream",
     "text": [
      "10311\n"
     ]
    }
   ],
   "source": [
    "generic_drug_id = generics[5][\"id\"]\n",
    "\n",
    "print(generic_drug_id)"
   ]
  },
  {
   "cell_type": "code",
   "execution_count": 33,
   "id": "6e35c9bd",
   "metadata": {},
   "outputs": [
    {
     "name": "stdout",
     "output_type": "stream",
     "text": [
      "Found 9 results:\n",
      "CARMELLOSE SODIQUE\n",
      "AROME CITRON PECHE FRAISE\n",
      "CROSPOVIDONE\n",
      "ASPARTAM\n",
      "SODIUM BENZOATE\n",
      "XANTHANE GOMME\n",
      "SILICE COLLOIDALE HYDROPHOBE\n",
      "MAGNESIUM STEARATE\n",
      "MALTOSE DEXTRINE\n"
     ]
    }
   ],
   "source": [
    "# Finding all of the generics of Zoloft in the db thru graph search\n",
    "if drug_of_interest and \"id\" in drug_of_interest:\n",
    "    excipients = get_excipients(\"2643\", cursor=cursor, conn=conn)\n",
    "else:\n",
    "    print(\"No drug found or drug_of_interest is None\")"
   ]
  }
 ],
 "metadata": {
  "kernelspec": {
   "display_name": ".venv",
   "language": "python",
   "name": "python3"
  },
  "language_info": {
   "codemirror_mode": {
    "name": "ipython",
    "version": 3
   },
   "file_extension": ".py",
   "mimetype": "text/x-python",
   "name": "python",
   "nbconvert_exporter": "python",
   "pygments_lexer": "ipython3",
   "version": "3.12.2"
  }
 },
 "nbformat": 4,
 "nbformat_minor": 5
}
