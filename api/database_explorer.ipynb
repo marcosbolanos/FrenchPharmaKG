{
 "cells": [
  {
   "cell_type": "code",
   "execution_count": 2,
   "id": "cdda2e24",
   "metadata": {},
   "outputs": [],
   "source": [
    "import json\n",
    "import psycopg\n",
    "import re\n",
    "import os\n",
    "\n",
    "conn = psycopg.connect(\n",
    "    dbname=\"fpkg0_1\",\n",
    "    user='postgres',\n",
    "    password='postgres',\n",
    "    host=\"localhost\",\n",
    "    port=\"5431\"\n",
    ")\n",
    "\n",
    "cur = conn.cursor()\n",
    "\n",
    "cur.execute(\"LOAD 'age';\")\n",
    "cur.execute(\"SET search_path = ag_catalog, \\\"$user\\\", public;\")\n",
    "\n",
    "conn.commit()"
   ]
  },
  {
   "cell_type": "code",
   "execution_count": null,
   "id": "8f8d5dcb",
   "metadata": {},
   "outputs": [],
   "source": [
    "# vector search for an "
   ]
  },
  {
   "cell_type": "code",
   "execution_count": null,
   "id": "852b7680",
   "metadata": {},
   "outputs": [],
   "source": [
    "query = f\"\"\"\n",
    "SELECT * FROM cypher('fcsv', $$ \n",
    "    MATCH (d) -[e:HasContraindication]-> (c)\n",
    "    RETURN d, e\n",
    "$$) AS (d agtype, result agtype);\n",
    "\"\"\"\n",
    "\n",
    "try:\n",
    "    cur.execute(query)\n",
    "    results = cur.fetchall()\n",
    "    print(len(results))\n",
    "    for res in results[2000:2020]:\n",
    "        # res = re.sub(r'::\\w+$', '', res[0])\n",
    "        print(res)\n",
    "except Exception as e:\n",
    "    print(e)\n",
    "    conn.rollback()"
   ]
  },
  {
   "cell_type": "code",
   "execution_count": 37,
   "id": "8f4b8592",
   "metadata": {},
   "outputs": [],
   "source": [
    "conn.rollback()"
   ]
  }
 ],
 "metadata": {
  "kernelspec": {
   "display_name": ".venv",
   "language": "python",
   "name": "python3"
  },
  "language_info": {
   "codemirror_mode": {
    "name": "ipython",
    "version": 3
   },
   "file_extension": ".py",
   "mimetype": "text/x-python",
   "name": "python",
   "nbconvert_exporter": "python",
   "pygments_lexer": "ipython3",
   "version": "3.11.2"
  }
 },
 "nbformat": 4,
 "nbformat_minor": 5
}
