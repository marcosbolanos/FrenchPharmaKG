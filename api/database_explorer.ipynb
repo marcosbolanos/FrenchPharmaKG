{
 "cells": [
  {
   "cell_type": "code",
   "execution_count": 1,
   "id": "cdda2e24",
   "metadata": {},
   "outputs": [
    {
     "name": "stdout",
     "output_type": "stream",
     "text": [
      "Successfully initialized database and OpenAI embeddings\n"
     ]
    }
   ],
   "source": [
    "from dotenv import load_dotenv\n",
    "import os\n",
    "from src.utils import Database\n",
    "\n",
    "load_dotenv()\n",
    "\n",
    "db_config = {\n",
    "    \"dbname\": \"fpkg\",\n",
    "    \"user\": os.environ.get(\"PGUSER\"),\n",
    "    \"password\": os.environ.get(\"PGPASSWORD\"),\n",
    "    \"host\": \"localhost\",\n",
    "    \"port\": \"5431\"\n",
    "}\n",
    "\n",
    "db = Database(db_config)"
   ]
  },
  {
   "cell_type": "code",
   "execution_count": 2,
   "id": "852b7680",
   "metadata": {},
   "outputs": [
    {
     "name": "stdout",
     "output_type": "stream",
     "text": [
      "found 5 results\n",
      "\n",
      "Top result:\n",
      "    Name: ZOLOFT 50MG GELULE\n",
      "    ID: 13664\n",
      "\n"
     ]
    }
   ],
   "source": [
    "drug_of_interest = db.vsearch_drug(drug=\"Zoloft 50mg\")"
   ]
  },
  {
   "cell_type": "code",
   "execution_count": 3,
   "id": "d86a353b",
   "metadata": {},
   "outputs": [
    {
     "name": "stdout",
     "output_type": "stream",
     "text": [
      "Found 12 results:\n",
      "SERTRALINE ALM 50MG GELULE\n",
      "SERTRALINE ALT 50MG GELULE\n",
      "SERTRALINE ARL 50MG GELULE\n",
      "SERTRALINE BGA 50MG GELULE\n",
      "SERTRALINE CRP 50MG GELULE\n",
      "SERTRALINE EG 50MG GELULE\n",
      "SERTRALINE EVO 50MG GELULE\n",
      "SERTRALINE SDZ 50MG GELULE\n",
      "SERTRALINE TVC 50MG GELULE\n",
      "SERTRALINE VIA 50MG GELULE\n",
      "SERTRALINE ZEN 50MG GELULE\n",
      "SERTRALINE ZYF 50MG GELULE\n"
     ]
    }
   ],
   "source": [
    "# Finding all of the generics of Zoloft in the db thru graph search\n",
    "if drug_of_interest and \"id\" in drug_of_interest:\n",
    "    id_of_drug = drug_of_interest[\"id\"]\n",
    "    generics = db.find_generics(id_of_drug)\n",
    "else:\n",
    "    print(\"No drug found or drug_of_interest is None\")"
   ]
  }
 ],
 "metadata": {
  "kernelspec": {
   "display_name": ".venv",
   "language": "python",
   "name": "python3"
  },
  "language_info": {
   "codemirror_mode": {
    "name": "ipython",
    "version": 3
   },
   "file_extension": ".py",
   "mimetype": "text/x-python",
   "name": "python",
   "nbconvert_exporter": "python",
   "pygments_lexer": "ipython3",
   "version": "3.12.2"
  }
 },
 "nbformat": 4,
 "nbformat_minor": 5
}
