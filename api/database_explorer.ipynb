{
 "cells": [
  {
   "cell_type": "code",
   "execution_count": 2,
   "id": "cdda2e24",
   "metadata": {},
   "outputs": [],
   "source": [
    "import json\n",
    "import psycopg\n",
    "from pgvector.psycopg import register_vector\n",
    "import re\n",
    "import os\n",
    "\n",
    "conn = psycopg.connect(\n",
    "    dbname=\"fpkg\",\n",
    "    user=os.environ.get(\"PGUSER\"),\n",
    "    password=os.environ.get(\"PGPASSWORD\"),\n",
    "    host=\"localhost\",\n",
    "    port=\"5431\"\n",
    ")\n",
    "\n",
    "cursor = conn.cursor()\n",
    "\n",
    "cursor.execute(\"LOAD 'age';\")\n",
    "cursor.execute(\"SET search_path = ag_catalog, \\\"$user\\\", public;\")\n",
    "\n",
    "conn.commit()"
   ]
  },
  {
   "cell_type": "code",
   "execution_count": 23,
   "id": "61caab10",
   "metadata": {},
   "outputs": [],
   "source": [
    "embedding = embeddings.embed_query(\"Paracétamol\")\n",
    "\n",
    "embedding_string = \"[\" + ','.join(str(x) for x in embedding) + \"]\""
   ]
  },
  {
   "cell_type": "code",
   "execution_count": 30,
   "id": "852b7680",
   "metadata": {},
   "outputs": [
    {
     "name": "stdout",
     "output_type": "stream",
     "text": [
      "5\n",
      "\"Paracétamol 150 mg suppositoire\"\n",
      "\"Paracétamol 1 g comprimé\"\n",
      "\"Paracétamol 300 mg suppositoire\"\n",
      "\"Paracétamol 100 mg suppositoire\"\n",
      "\"Paracétamol 600 mg suppositoire\"\n"
     ]
    }
   ],
   "source": [
    "# Finding the list of nodes to embed\n",
    "query = f\"\"\"\n",
    "    SELECT node_name, id, embedding\n",
    "    FROM document_vectors\n",
    "    ORDER BY embedding <-> %(vector)s\n",
    "    LIMIT 5;\n",
    "\"\"\"\n",
    "\n",
    "try:\n",
    "    cursor.execute(query, {'vector':embedding_string})\n",
    "    results = cursor.fetchall()\n",
    "    print(len(results))\n",
    "    for res in results[:200]:\n",
    "        # res = re.sub(r'::\\w+$', '', res[0])\n",
    "        print(res[0])\n",
    "\n",
    "    vertex_labels = results\n",
    "except Exception as e:\n",
    "    print(e)\n",
    "    conn.rollback()"
   ]
  }
 ],
 "metadata": {
  "kernelspec": {
   "display_name": ".venv",
   "language": "python",
   "name": "python3"
  },
  "language_info": {
   "codemirror_mode": {
    "name": "ipython",
    "version": 3
   },
   "file_extension": ".py",
   "mimetype": "text/x-python",
   "name": "python",
   "nbconvert_exporter": "python",
   "pygments_lexer": "ipython3",
   "version": "3.12.2"
  }
 },
 "nbformat": 4,
 "nbformat_minor": 5
}
